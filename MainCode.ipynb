{
 "cells": [
  {
   "attachments": {},
   "cell_type": "markdown",
   "metadata": {},
   "source": [
    "## Import Bank"
   ]
  },
  {
   "cell_type": "code",
   "execution_count": 1,
   "metadata": {},
   "outputs": [],
   "source": [
    "from Bank import Bank"
   ]
  },
  {
   "attachments": {},
   "cell_type": "markdown",
   "metadata": {},
   "source": [
    "#### Test bank functions "
   ]
  },
  {
   "attachments": {},
   "cell_type": "markdown",
   "metadata": {},
   "source": [
    "##### Test get list of the  customer"
   ]
  },
  {
   "cell_type": "code",
   "execution_count": 2,
   "metadata": {},
   "outputs": [
    {
     "name": "stdout",
     "output_type": "stream",
     "text": [
      "username = james,password = jamesPassword\n"
     ]
    }
   ],
   "source": [
    "testBank = Bank()\n",
    "a = testBank.get_customers()\n",
    "print(f\"username = {a[1].username},password = {a[1].password}\")"
   ]
  },
  {
   "cell_type": "markdown",
   "metadata": {},
   "source": [
    "##### Test change customer password"
   ]
  },
  {
   "cell_type": "code",
   "execution_count": 3,
   "metadata": {},
   "outputs": [
    {
     "name": "stdout",
     "output_type": "stream",
     "text": [
      "the newpassword of the customer james is 1234529\n",
      "you need to write a new password\n",
      "there is no customer with the name of Ali\n"
     ]
    },
    {
     "data": {
      "text/plain": [
       "False"
      ]
     },
     "execution_count": 3,
     "metadata": {},
     "output_type": "execute_result"
    }
   ],
   "source": [
    "username = \"james\"\n",
    "new_password = \"1234529\"\n",
    "if testBank.change_customer_password(username, new_password):\n",
    "   customer  = testBank.get_customer(\"james\") \n",
    "   print(f\"the newpassword of the customer {customer.username} is {customer.password}\")\n",
    "\n",
    "if testBank.change_customer_password(username, new_password):\n",
    "   customer  = testBank.get_customer(\"james\") \n",
    "   print(f\"the newpassword of the customer {customer.username} is {customer.password}\")\n",
    "   \n",
    "wrongusername = \"Ali\"\n",
    "testBank.change_customer_password(\"Ali\",\"123456\")  "
   ]
  },
  {
   "attachments": {},
   "cell_type": "markdown",
   "metadata": {},
   "source": [
    "#### Test add customer"
   ]
  },
  {
   "cell_type": "code",
   "execution_count": 4,
   "metadata": {},
   "outputs": [
    {
     "name": "stdout",
     "output_type": "stream",
     "text": [
      "the new customer is Ali with the password 7731473471\n",
      "the new customer is Maryam with the password 773141\n"
     ]
    }
   ],
   "source": [
    "username = \"Ali\"\n",
    "password = \"7731473471\"\n",
    "testBank.add_customer(username,password)\n",
    "\n",
    "temp = testBank.get_customer(username)\n",
    "\n",
    "print(f\"the new customer is {temp.username} with the password {temp.password}\")\n",
    "\n",
    "username = \"Maryam\"\n",
    "password = \"773141\"\n",
    "testBank.add_customer(username,password)\n",
    "\n",
    "temp = testBank.get_customer(username)\n",
    "print(f\"the new customer is {temp.username} with the password {temp.password}\")\n"
   ]
  },
  {
   "attachments": {},
   "cell_type": "markdown",
   "metadata": {},
   "source": [
    "##### test remove customer"
   ]
  },
  {
   "cell_type": "code",
   "execution_count": 5,
   "metadata": {},
   "outputs": [
    {
     "name": "stdout",
     "output_type": "stream",
     "text": [
      "the account with Ali is deleted\n"
     ]
    }
   ],
   "source": [
    "username = \"Ali\"\n",
    "if testBank.remove_customer(username):\n",
    "    if testBank.get_customer(username) == None:\n",
    "        print(f\"the account with {username} is deleted\")\n",
    "    else:\n",
    "        print(\"The code should have come here\")   \n",
    "else:\n",
    "    temp = testBank.get_customer(username)\n",
    "    if temp != None:\n",
    "        print(f\"the account with {username} is not deleted\")    "
   ]
  },
  {
   "attachments": {},
   "cell_type": "markdown",
   "metadata": {},
   "source": [
    "#### test login"
   ]
  },
  {
   "cell_type": "code",
   "execution_count": 5,
   "metadata": {},
   "outputs": [
    {
     "name": "stdout",
     "output_type": "stream",
     "text": [
      "False\n",
      "the customer with name Maryam is logged in\n",
      "True\n"
     ]
    }
   ],
   "source": [
    "username = \"Maryam\"\n",
    "print(testBank.loginCustomer != None)\n",
    "if testBank.login(username,\"773141\"):\n",
    "    print(f\"the customer with name {username} is logged in\")\n",
    "    print(testBank.loginCustomer != None)\n"
   ]
  },
  {
   "attachments": {},
   "cell_type": "markdown",
   "metadata": {},
   "source": [
    "#### test logout"
   ]
  },
  {
   "cell_type": "code",
   "execution_count": 6,
   "metadata": {},
   "outputs": [
    {
     "name": "stdout",
     "output_type": "stream",
     "text": [
      "True\n",
      "the customer with name Maryam is logged out\n",
      "False\n"
     ]
    }
   ],
   "source": [
    "username = testBank.loginCustomer.username\n",
    "print(testBank.loginCustomer != None)\n",
    "if testBank.logout():\n",
    "    print(f\"the customer with name {username} is logged out\")\n",
    "    print(testBank.loginCustomer != None)\n"
   ]
  },
  {
   "attachments": {},
   "cell_type": "markdown",
   "metadata": {},
   "source": [
    "#### test get customer"
   ]
  },
  {
   "cell_type": "code",
   "execution_count": 7,
   "metadata": {},
   "outputs": [
    {
     "name": "stdout",
     "output_type": "stream",
     "text": [
      "False\n",
      "the customer with name niklas is logged in\n",
      "True\n",
      "The account of the logged in customer is as follows\n",
      "konto1 321\n",
      "konto2 500\n",
      "konto3 261\n"
     ]
    }
   ],
   "source": [
    "username = \"niklas\"\n",
    "temp = testBank.get_customer(username)\n",
    "print(testBank.loginCustomer != None)\n",
    "if testBank.login(username,temp.password):\n",
    "    print(f\"the customer with name {username} is logged in\")\n",
    "    print(testBank.loginCustomer != None)\n",
    "\n",
    "print(\"The account of the logged in customer is as follows\")\n",
    "for account in testBank.get_account():\n",
    "    print(f\"{account.account_number} {account.balance}\")\n",
    "    \n"
   ]
  },
  {
   "attachments": {},
   "cell_type": "markdown",
   "metadata": {},
   "source": [
    "#### test deposit"
   ]
  },
  {
   "cell_type": "code",
   "execution_count": 8,
   "metadata": {},
   "outputs": [
    {
     "name": "stdout",
     "output_type": "stream",
     "text": [
      "321\n",
      "341\n"
     ]
    }
   ],
   "source": [
    "a = testBank.loginCustomer.get_account(\"konto1\")\n",
    "amount = 20\n",
    "print(a.balance)\n",
    "testBank.deposit(\"konto1\",amount)\n",
    "print(a.balance)"
   ]
  },
  {
   "attachments": {},
   "cell_type": "markdown",
   "metadata": {},
   "source": [
    "#### test withdraw"
   ]
  },
  {
   "cell_type": "code",
   "execution_count": 9,
   "metadata": {},
   "outputs": [
    {
     "name": "stdout",
     "output_type": "stream",
     "text": [
      "341\n",
      "321\n"
     ]
    }
   ],
   "source": [
    "a = testBank.loginCustomer.get_account(\"konto1\")\n",
    "amount = 20\n",
    "print(a.balance)\n",
    "testBank.withdraw(\"konto1\",amount)\n",
    "print(a.balance)"
   ]
  },
  {
   "attachments": {},
   "cell_type": "markdown",
   "metadata": {},
   "source": [
    "#### Test save and load to file"
   ]
  },
  {
   "cell_type": "code",
   "execution_count": 10,
   "metadata": {},
   "outputs": [
    {
     "name": "stdout",
     "output_type": "stream",
     "text": [
      "niklas\n",
      "james\n",
      "Ali\n",
      "Maryam\n"
     ]
    }
   ],
   "source": [
    "for customer in testBank.customersList:\n",
    "    print(f\"{customer.username}\")"
   ]
  },
  {
   "cell_type": "code",
   "execution_count": 11,
   "metadata": {},
   "outputs": [],
   "source": [
    "del testBank"
   ]
  }
 ],
 "metadata": {
  "kernelspec": {
   "display_name": "neuroscience",
   "language": "python",
   "name": "python3"
  },
  "language_info": {
   "codemirror_mode": {
    "name": "ipython",
    "version": 3
   },
   "file_extension": ".py",
   "mimetype": "text/x-python",
   "name": "python",
   "nbconvert_exporter": "python",
   "pygments_lexer": "ipython3",
   "version": "3.9.7"
  },
  "orig_nbformat": 4,
  "vscode": {
   "interpreter": {
    "hash": "9b90f58838627ae9536bc45b395542ea55889f7ccf51a116a257daff08c3937e"
   }
  }
 },
 "nbformat": 4,
 "nbformat_minor": 2
}
